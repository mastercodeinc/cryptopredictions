{
 "cells": [
  {
   "cell_type": "code",
   "execution_count": 1,
   "metadata": {},
   "outputs": [],
   "source": [
    "import pandas as pd\n",
    "# 5, 4,6, 7\n",
    "_4 = 'predictions_American_fit_3_months_sample_weights_400000_2016-12_2018-12.csv'\n",
    "_5 = 'predictions_American_fit_generator_1_month_100000_2016-12_2018-12.csv'\n",
    "_6 = 'predictions_American_fit_generator_1_month_sample_weights_100000_2016-12_2018-12.csv'\n",
    "_7 = 'predictions_American_fit_generator_3_months_100000_2016-12_2018-12.csv'\n",
    "_0 = 'predictions_American_1_month_sample_weights_100000_2017-01_2018-11_v2.csv'"
   ]
  },
  {
   "cell_type": "code",
   "execution_count": 14,
   "metadata": {},
   "outputs": [],
   "source": [
    "_5_ = 'predictions_American_fit_generator_1_months_sample_weights_100000_2018-11_2019-01.csv'\n",
    "_4_ = 'predictions_American_fit_generator_3_months_sample_weights_400000_2018-11_2019-01.csv'\n",
    "_0_ = 'predictions_American_1_months_sample_weights_100000_batch_size_2048_corr_mse(1,10)_2018-11_2019-01.csv'"
   ]
  },
  {
   "cell_type": "code",
   "execution_count": 44,
   "metadata": {},
   "outputs": [],
   "source": [
    "_0_cropd = 'american_0_predictions_sep_nov.csv'\n",
    "data5_0 = pd.read_csv(_0_cropd, index_col=0)\n",
    "data5_1 = pd.read_csv(_0_, index_col=0)"
   ]
  },
  {
   "cell_type": "code",
   "execution_count": 16,
   "metadata": {},
   "outputs": [],
   "source": [
    "data.index = pd.to_datetime(data.index)"
   ]
  },
  {
   "cell_type": "code",
   "execution_count": 51,
   "metadata": {},
   "outputs": [],
   "source": [
    "test1 = pd.read_csv('american_0_predictions_sep_jan.csv', index_col=0)"
   ]
  },
  {
   "cell_type": "code",
   "execution_count": 53,
   "metadata": {},
   "outputs": [
    {
     "data": {
      "text/plain": [
       "_30m\n",
       "2018-09-20 00:00:00    False\n",
       "2018-09-20 00:05:00    False\n",
       "2018-09-20 00:10:00    False\n",
       "2018-09-20 00:15:00    False\n",
       "2018-09-20 00:20:00    False\n",
       "2018-09-20 00:25:00    False\n",
       "2018-09-20 00:30:00    False\n",
       "2018-09-20 00:35:00    False\n",
       "2018-09-20 00:40:00    False\n",
       "2018-09-20 00:45:00    False\n",
       "2018-09-20 00:50:00    False\n",
       "2018-09-20 00:55:00    False\n",
       "2018-09-20 01:00:00    False\n",
       "2018-09-20 01:05:00    False\n",
       "2018-09-20 01:10:00    False\n",
       "2018-09-20 01:15:00    False\n",
       "2018-09-20 01:20:00    False\n",
       "2018-09-20 01:25:00    False\n",
       "2018-09-20 01:30:00    False\n",
       "2018-09-20 01:35:00    False\n",
       "2018-09-20 01:40:00    False\n",
       "2018-09-20 01:45:00    False\n",
       "2018-09-20 01:50:00    False\n",
       "2018-09-20 01:55:00    False\n",
       "2018-09-20 02:00:00    False\n",
       "2018-09-20 02:05:00    False\n",
       "2018-09-20 02:10:00    False\n",
       "2018-09-20 02:15:00    False\n",
       "2018-09-20 02:20:00    False\n",
       "2018-09-20 02:25:00    False\n",
       "                       ...  \n",
       "2019-01-08 21:30:00    False\n",
       "2019-01-08 21:35:00    False\n",
       "2019-01-08 21:40:00    False\n",
       "2019-01-08 21:45:00    False\n",
       "2019-01-08 21:50:00    False\n",
       "2019-01-08 21:55:00    False\n",
       "2019-01-08 22:00:00    False\n",
       "2019-01-08 22:05:00    False\n",
       "2019-01-08 22:10:00    False\n",
       "2019-01-08 22:15:00    False\n",
       "2019-01-08 22:20:00    False\n",
       "2019-01-08 22:25:00    False\n",
       "2019-01-08 22:30:00    False\n",
       "2019-01-08 22:35:00    False\n",
       "2019-01-08 22:40:00    False\n",
       "2019-01-08 22:45:00    False\n",
       "2019-01-08 22:50:00    False\n",
       "2019-01-08 22:55:00    False\n",
       "2019-01-08 23:00:00    False\n",
       "2019-01-08 23:05:00    False\n",
       "2019-01-08 23:10:00    False\n",
       "2019-01-08 23:15:00    False\n",
       "2019-01-08 23:20:00    False\n",
       "2019-01-08 23:25:00    False\n",
       "2019-01-08 23:30:00    False\n",
       "2019-01-08 23:35:00    False\n",
       "2019-01-08 23:40:00    False\n",
       "2019-01-08 23:45:00    False\n",
       "2019-01-08 23:50:00    False\n",
       "2019-01-08 23:55:00    False\n",
       "Length: 38873, dtype: bool"
      ]
     },
     "execution_count": 53,
     "metadata": {},
     "output_type": "execute_result"
    }
   ],
   "source": [
    "test1.duplicated()"
   ]
  },
  {
   "cell_type": "code",
   "execution_count": null,
   "metadata": {},
   "outputs": [],
   "source": []
  },
  {
   "cell_type": "code",
   "execution_count": null,
   "metadata": {},
   "outputs": [],
   "source": []
  },
  {
   "cell_type": "code",
   "execution_count": 45,
   "metadata": {},
   "outputs": [],
   "source": [
    "_0_ready = pd.concat([data5_0[['y_pred']], data5_1[['y_pred']]]).drop_duplicates()"
   ]
  },
  {
   "cell_type": "code",
   "execution_count": 50,
   "metadata": {},
   "outputs": [
    {
     "data": {
      "text/plain": [
       "False"
      ]
     },
     "execution_count": 50,
     "metadata": {},
     "output_type": "execute_result"
    }
   ],
   "source": [
    "_0_ready.duplicated()"
   ]
  },
  {
   "cell_type": "code",
   "execution_count": 33,
   "metadata": {},
   "outputs": [],
   "source": []
  },
  {
   "cell_type": "code",
   "execution_count": 24,
   "metadata": {},
   "outputs": [],
   "source": [
    " "
   ]
  },
  {
   "cell_type": "code",
   "execution_count": null,
   "metadata": {},
   "outputs": [],
   "source": []
  },
  {
   "cell_type": "code",
   "execution_count": null,
   "metadata": {},
   "outputs": [],
   "source": []
  },
  {
   "cell_type": "code",
   "execution_count": null,
   "metadata": {},
   "outputs": [],
   "source": []
  },
  {
   "cell_type": "code",
   "execution_count": null,
   "metadata": {},
   "outputs": [],
   "source": []
  }
 ],
 "metadata": {
  "kernelspec": {
   "display_name": "Python 3",
   "language": "python",
   "name": "python3"
  },
  "language_info": {
   "codemirror_mode": {
    "name": "ipython",
    "version": 3
   },
   "file_extension": ".py",
   "mimetype": "text/x-python",
   "name": "python",
   "nbconvert_exporter": "python",
   "pygments_lexer": "ipython3",
   "version": "3.5.2"
  }
 },
 "nbformat": 4,
 "nbformat_minor": 2
}
