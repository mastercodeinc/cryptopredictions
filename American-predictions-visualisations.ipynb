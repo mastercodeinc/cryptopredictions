{
 "cells": [
  {
   "cell_type": "code",
   "execution_count": 1,
   "metadata": {},
   "outputs": [],
   "source": [
    "#HIDDEN\n",
    "import pandas as pd \n",
    "import numpy as np "
   ]
  },
  {
   "cell_type": "code",
   "execution_count": 2,
   "metadata": {},
   "outputs": [],
   "source": [
    "#HIDDEN\n",
    "close_prices = pd.read_csv('close_prices.csv', index_col=0)\n",
    "close_prices.index = pd.to_datetime(close_prices.index)\n",
    "# print(close_prices.head())"
   ]
  },
  {
   "cell_type": "markdown",
   "metadata": {},
   "source": [
    "## Graphics"
   ]
  },
  {
   "cell_type": "code",
   "execution_count": 3,
   "metadata": {},
   "outputs": [],
   "source": [
    "#HIDDEN\n",
    "from matplotlib import gridspec\n",
    "import matplotlib\n",
    "from ipywidgets import interact_manual\n",
    "import matplotlib.pyplot as plt\n",
    "import nbinteract as nbi\n",
    "\n",
    "import ipywidgets as widgets\n",
    "\n",
    "preds_name = 'predictions_American_fit_generator_1_month_sample_weights_100000_2016-12_2018-12.csv'\n",
    "\n",
    "preds = pd.read_csv(preds_name, index_col=0)\n",
    "preds.index = pd.to_datetime(preds.index)\n",
    "\n",
    "def plot_reg(date, hours):\n",
    "    s = pd.to_datetime(date)\n",
    "    f = s + pd.Timedelta(hours = float(hours))\n",
    "\n",
    "    x_1 = preds[s:f].index\n",
    "    y_1 = preds[s:f].y_pred\n",
    "    x_2 = close_prices[s:f].index\n",
    "    y_2 = close_prices[s:f].price\n",
    "\n",
    "\n",
    "    fig = plt.figure(figsize=(20,10))\n",
    "    # set height ratios for sublots\n",
    "    gs = gridspec.GridSpec(2, 1) \n",
    "\n",
    "    # the fisrt subplot\n",
    "    ax0 = plt.subplot(gs[0])\n",
    "    line0 = ax0.bar(x_1, y_1,  width = 0.0025, align='center', label='Prediction')\n",
    "\n",
    "    plt.legend()\n",
    "    plt.title('Graphics')\n",
    "    plt.grid()\n",
    "    #the second subplot\n",
    "    # shared axis X\n",
    "    ax1 = plt.subplot(gs[1], sharex = ax0)\n",
    "    line1 = ax1.plot(x_2, y_2, '-b', label='Real price changes')\n",
    "\n",
    "    plt.setp(ax0.get_xticklabels(), visible=False)\n",
    "\n",
    "    # remove last tick label for the second subplot\n",
    "    yticks = ax1.yaxis.get_major_ticks()\n",
    "    yticks[-1].label1.set_visible(False)\n",
    "\n",
    "#     put lened on first subplot\n",
    "    plt.legend()\n",
    "    # remove vertical gap between subplots\n",
    "    plt.subplots_adjust(hspace=.0)\n",
    "\n",
    "    plt.grid()\n",
    "    plt.show()"
   ]
  },
  {
   "cell_type": "code",
   "execution_count": 4,
   "metadata": {},
   "outputs": [
    {
     "data": {
      "application/vnd.jupyter.widget-view+json": {
       "model_id": "9ca56ed6ef824017a5780d2d596bad61",
       "version_major": 2,
       "version_minor": 0
      },
      "text/html": [
       "<p>Failed to display Jupyter Widget of type <code>interactive</code>.</p>\n",
       "<p>\n",
       "  If you're reading this message in the Jupyter Notebook or JupyterLab Notebook, it may mean\n",
       "  that the widgets JavaScript is still loading. If this message persists, it\n",
       "  likely means that the widgets JavaScript library is either not installed or\n",
       "  not enabled. See the <a href=\"https://ipywidgets.readthedocs.io/en/stable/user_install.html\">Jupyter\n",
       "  Widgets Documentation</a> for setup instructions.\n",
       "</p>\n",
       "<p>\n",
       "  If you're reading this message in another frontend (for example, a static\n",
       "  rendering on GitHub or <a href=\"https://nbviewer.jupyter.org/\">NBViewer</a>),\n",
       "  it may mean that your frontend doesn't currently support widgets.\n",
       "</p>\n"
      ],
      "text/plain": [
       "interactive(children=(Text(value='2017-11-10', description='date'), Text(value='3', description='hours'), Button(description='Run Interact', style=ButtonStyle()), Output()), _dom_classes=('widget-interact',))"
      ]
     },
     "metadata": {},
     "output_type": "display_data"
    }
   ],
   "source": [
    "interact_manual(plot_reg, date='2017-11-10', hours='3');"
   ]
  }
 ],
 "metadata": {
  "kernelspec": {
   "display_name": "Python 3",
   "language": "python",
   "name": "python3"
  },
  "language_info": {
   "codemirror_mode": {
    "name": "ipython",
    "version": 3
   },
   "file_extension": ".py",
   "mimetype": "text/x-python",
   "name": "python",
   "nbconvert_exporter": "python",
   "pygments_lexer": "ipython3",
   "version": "3.5.2"
  }
 },
 "nbformat": 4,
 "nbformat_minor": 2
}
